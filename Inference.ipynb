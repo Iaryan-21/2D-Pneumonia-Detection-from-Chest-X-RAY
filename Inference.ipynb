{
 "cells": [
  {
   "cell_type": "code",
   "execution_count": 1,
   "metadata": {},
   "outputs": [
    {
     "name": "stderr",
     "output_type": "stream",
     "text": [
      "Using TensorFlow backend.\n"
     ]
    }
   ],
   "source": [
    "import numpy as np\n",
    "import pandas as pd\n",
    "import pydicom\n",
    "%matplotlib inline\n",
    "import matplotlib.pyplot as plt\n",
    "import keras \n",
    "from keras.models import Sequential\n",
    "from keras.layers import Dense\n",
    "from keras.models import model_from_json\n",
    "from skimage.transform import resize"
   ]
  },
  {
   "cell_type": "code",
   "execution_count": 8,
   "metadata": {},
   "outputs": [],
   "source": [
    "# This function reads in a .dcm file, checks the important fields for our device, and returns a numpy array\n",
    "# of just the imaging data\n",
    "def check_dicom(filename): \n",
    "    print('File {}'.format(filename))\n",
    "    ds = pydicom.dcmread(filename)\n",
    "    \n",
    "    if (ds.BodyPartExamined !='CHEST') | (ds.Modality !='DX') | (ds.PatientPosition not in ['PA', 'AP']):\n",
    "        print('The image is not valid because the image position, the image type or the body part is not as per standards')\n",
    "        return\n",
    "    else:\n",
    "        print('ID:', ds.PatientID,\n",
    "             'Age:',ds.PatientAge,\n",
    "             'Modality:', ds.Modality,\n",
    "             'Position:', ds.PatientPosition,\n",
    "             'Body Part:', ds.BodyPartExamined,\n",
    "             'Study Desc:', ds.StudyDescription)\n",
    "        \n",
    "    img = ds.pixel_array    \n",
    "    return img\n",
    "    \n",
    "    \n",
    "# This function takes the numpy array output by check_dicom and \n",
    "# runs the appropriate pre-processing needed for our model input\n",
    "def preprocess_image(img,img_mean,img_std,img_size): \n",
    "        img = resize(img,(224,224))\n",
    "        img = img/255.0\n",
    "        grey_img = (img - img_mean) / img_std\n",
    "        \n",
    "        proc_img = np.zeros((224,224,3))\n",
    "        proc_img[:,:, 0] = grey_img\n",
    "        proc_img[:,:, 1] = grey_img\n",
    "        proc_img[:,:, 2] = grey_img\n",
    "        \n",
    "        proc_img = np.resize(proc_img , img_size)\n",
    "    \n",
    "        return proc_img\n",
    "\n",
    "# This function loads in our trained model w/ weights and compiles it \n",
    "def load_model(model_path, weight_path):\n",
    "        json_file = open(model_path , 'r')\n",
    "        loaded_model_json = json_file.read()\n",
    "        json_file.close()\n",
    "        model = model_from_json(loaded_model_json)\n",
    "        model.load_weights(weight_path)\n",
    "        return model\n",
    "\n",
    "# This function uses our device's threshold parameters to predict whether or not\n",
    "# the image shows the presence of pneumonia using our trained model\n",
    "def predict_image(model, img, thresh):\n",
    "        result = model.predict(img)\n",
    "        print('Predicted value:', result)\n",
    "        \n",
    "        predict = result[0]\n",
    "        prediction = \"Negative\"\n",
    "        if(predict > thresh):\n",
    "            prediction = \"Positive\"\n",
    "    \n",
    "        return prediction "
   ]
  },
  {
   "cell_type": "code",
   "execution_count": 10,
   "metadata": {},
   "outputs": [
    {
     "name": "stdout",
     "output_type": "stream",
     "text": [
      "File test1.dcm\n",
      "ID: 2 Age: 81 Modality: DX Position: PA Body Part: CHEST Study Desc: No Finding\n",
      "Predicted value: [[0.45847535]]\n",
      "Model Classification: Positive for Pneumonia\n",
      "File test2.dcm\n",
      "ID: 1 Age: 58 Modality: DX Position: AP Body Part: CHEST Study Desc: Cardiomegaly\n",
      "Predicted value: [[0.45849732]]\n",
      "Model Classification: Positive for Pneumonia\n",
      "File test3.dcm\n",
      "ID: 61 Age: 77 Modality: DX Position: AP Body Part: CHEST Study Desc: Effusion\n",
      "Predicted value: [[0.45880696]]\n",
      "Model Classification: Positive for Pneumonia\n",
      "File test4.dcm\n",
      "The image is not valid because the image position, the image type or the body part is not as per standards\n",
      "File test5.dcm\n",
      "The image is not valid because the image position, the image type or the body part is not as per standards\n",
      "File test6.dcm\n",
      "The image is not valid because the image position, the image type or the body part is not as per standards\n"
     ]
    }
   ],
   "source": [
    "test_dicoms = ['test1.dcm','test2.dcm','test3.dcm','test4.dcm','test5.dcm','test6.dcm']\n",
    "\n",
    "model_path = \"my_model.json\" #path to saved model\n",
    "weight_path = \"xray_class_my_model.best.hdf5\"#path to saved best weights\n",
    "\n",
    "IMG_SIZE=(1,224,224,3) # This might be different if you did not use vgg16\n",
    "img_mean = 0.510408# loads the mean image value they used during training preprocessing\n",
    "img_std = 0.25040054# loads the std dev image value they used during training preprocessing\n",
    "\n",
    "my_model = load_model(model_path, weight_path)#loads model\n",
    "thresh = 0.4328137#loads the threshold they chose for model classification \n",
    "\n",
    "# use the .dcm files to test your prediction\n",
    "for i in test_dicoms:\n",
    "    \n",
    "    img = np.array([])\n",
    "    img = check_dicom(i)\n",
    "    \n",
    "    if img is None:\n",
    "        continue\n",
    "        \n",
    "    img_proc = preprocess_image(img,img_mean,img_std,IMG_SIZE)\n",
    "    pred = predict_image(my_model,img_proc,thresh)\n",
    "    print('Model Classification:', pred , 'for Pneumonia' )\n"
   ]
  },
  {
   "cell_type": "code",
   "execution_count": null,
   "metadata": {},
   "outputs": [],
   "source": []
  }
 ],
 "metadata": {
  "kernelspec": {
   "display_name": "Python 3",
   "language": "python",
   "name": "python3"
  },
  "language_info": {
   "codemirror_mode": {
    "name": "ipython",
    "version": 3
   },
   "file_extension": ".py",
   "mimetype": "text/x-python",
   "name": "python",
   "nbconvert_exporter": "python",
   "pygments_lexer": "ipython3",
   "version": "3.7.6"
  }
 },
 "nbformat": 4,
 "nbformat_minor": 2
}
